{
 "cells": [
  {
   "attachments": {},
   "cell_type": "markdown",
   "id": "a7902e74",
   "metadata": {},
   "source": [
    "### Carga de las imagenes"
   ]
  },
  {
   "cell_type": "code",
   "execution_count": 42,
   "id": "ae12a848",
   "metadata": {},
   "outputs": [],
   "source": [
    "from image_services import get_image_urls"
   ]
  },
  {
   "attachments": {},
   "cell_type": "markdown",
   "id": "9876dff6",
   "metadata": {},
   "source": [
    "Acá esta como ejemplo como podemos generar todos los links para cualquera de las  carpertas dado un rango de fechas, el nombre de la carpeta (tipo de imagen, en que banda se tomo), indicando apropiadamente la fecha de incio y la frecuencia con la que se toman, como se muestra a continuación estan generando para tres casos\n"
   ]
  },
  {
   "cell_type": "code",
   "execution_count": 43,
   "id": "9e8a21ba",
   "metadata": {},
   "outputs": [],
   "source": [
    "hmiigr_urls = get_image_urls('01/01/2023 00:00:00', '02/01/2023', frequency='90T')\n",
    "eit171_urls = get_image_urls('01/01/2023 01:00:00', '02/01/2023', image_type='eit171', frequency='12H')\n",
    "eit195_urls = get_image_urls('01/01/2023 01:13:00', '02/01/2023', image_type='eit195', frequency='12H')"
   ]
  },
  {
   "cell_type": "code",
   "execution_count": 41,
   "id": "0c588d92",
   "metadata": {},
   "outputs": [
    {
     "data": {
      "text/plain": [
       "['https://soho.nascom.nasa.gov/data/REPROCESSING/Completed/2023/eit171/20230101/20230101_0100_eit171_1024.jpg',\n",
       " 'https://soho.nascom.nasa.gov/data/REPROCESSING/Completed/2023/eit171/20230101/20230101_1300_eit171_1024.jpg',\n",
       " 'https://soho.nascom.nasa.gov/data/REPROCESSING/Completed/2023/eit171/20230102/20230102_0100_eit171_1024.jpg',\n",
       " 'https://soho.nascom.nasa.gov/data/REPROCESSING/Completed/2023/eit171/20230102/20230102_1300_eit171_1024.jpg',\n",
       " 'https://soho.nascom.nasa.gov/data/REPROCESSING/Completed/2023/eit171/20230103/20230103_0100_eit171_1024.jpg',\n",
       " 'https://soho.nascom.nasa.gov/data/REPROCESSING/Completed/2023/eit171/20230103/20230103_1300_eit171_1024.jpg',\n",
       " 'https://soho.nascom.nasa.gov/data/REPROCESSING/Completed/2023/eit171/20230104/20230104_0100_eit171_1024.jpg',\n",
       " 'https://soho.nascom.nasa.gov/data/REPROCESSING/Completed/2023/eit171/20230104/20230104_1300_eit171_1024.jpg',\n",
       " 'https://soho.nascom.nasa.gov/data/REPROCESSING/Completed/2023/eit171/20230105/20230105_0100_eit171_1024.jpg',\n",
       " 'https://soho.nascom.nasa.gov/data/REPROCESSING/Completed/2023/eit171/20230105/20230105_1300_eit171_1024.jpg',\n",
       " 'https://soho.nascom.nasa.gov/data/REPROCESSING/Completed/2023/eit171/20230106/20230106_0100_eit171_1024.jpg',\n",
       " 'https://soho.nascom.nasa.gov/data/REPROCESSING/Completed/2023/eit171/20230106/20230106_1300_eit171_1024.jpg',\n",
       " 'https://soho.nascom.nasa.gov/data/REPROCESSING/Completed/2023/eit171/20230107/20230107_0100_eit171_1024.jpg',\n",
       " 'https://soho.nascom.nasa.gov/data/REPROCESSING/Completed/2023/eit171/20230107/20230107_1300_eit171_1024.jpg',\n",
       " 'https://soho.nascom.nasa.gov/data/REPROCESSING/Completed/2023/eit171/20230108/20230108_0100_eit171_1024.jpg',\n",
       " 'https://soho.nascom.nasa.gov/data/REPROCESSING/Completed/2023/eit171/20230108/20230108_1300_eit171_1024.jpg',\n",
       " 'https://soho.nascom.nasa.gov/data/REPROCESSING/Completed/2023/eit171/20230109/20230109_0100_eit171_1024.jpg',\n",
       " 'https://soho.nascom.nasa.gov/data/REPROCESSING/Completed/2023/eit171/20230109/20230109_1300_eit171_1024.jpg',\n",
       " 'https://soho.nascom.nasa.gov/data/REPROCESSING/Completed/2023/eit171/20230110/20230110_0100_eit171_1024.jpg',\n",
       " 'https://soho.nascom.nasa.gov/data/REPROCESSING/Completed/2023/eit171/20230110/20230110_1300_eit171_1024.jpg',\n",
       " 'https://soho.nascom.nasa.gov/data/REPROCESSING/Completed/2023/eit171/20230111/20230111_0100_eit171_1024.jpg',\n",
       " 'https://soho.nascom.nasa.gov/data/REPROCESSING/Completed/2023/eit171/20230111/20230111_1300_eit171_1024.jpg',\n",
       " 'https://soho.nascom.nasa.gov/data/REPROCESSING/Completed/2023/eit171/20230112/20230112_0100_eit171_1024.jpg',\n",
       " 'https://soho.nascom.nasa.gov/data/REPROCESSING/Completed/2023/eit171/20230112/20230112_1300_eit171_1024.jpg',\n",
       " 'https://soho.nascom.nasa.gov/data/REPROCESSING/Completed/2023/eit171/20230113/20230113_0100_eit171_1024.jpg',\n",
       " 'https://soho.nascom.nasa.gov/data/REPROCESSING/Completed/2023/eit171/20230113/20230113_1300_eit171_1024.jpg',\n",
       " 'https://soho.nascom.nasa.gov/data/REPROCESSING/Completed/2023/eit171/20230114/20230114_0100_eit171_1024.jpg',\n",
       " 'https://soho.nascom.nasa.gov/data/REPROCESSING/Completed/2023/eit171/20230114/20230114_1300_eit171_1024.jpg',\n",
       " 'https://soho.nascom.nasa.gov/data/REPROCESSING/Completed/2023/eit171/20230115/20230115_0100_eit171_1024.jpg',\n",
       " 'https://soho.nascom.nasa.gov/data/REPROCESSING/Completed/2023/eit171/20230115/20230115_1300_eit171_1024.jpg',\n",
       " 'https://soho.nascom.nasa.gov/data/REPROCESSING/Completed/2023/eit171/20230116/20230116_0100_eit171_1024.jpg',\n",
       " 'https://soho.nascom.nasa.gov/data/REPROCESSING/Completed/2023/eit171/20230116/20230116_1300_eit171_1024.jpg',\n",
       " 'https://soho.nascom.nasa.gov/data/REPROCESSING/Completed/2023/eit171/20230117/20230117_0100_eit171_1024.jpg',\n",
       " 'https://soho.nascom.nasa.gov/data/REPROCESSING/Completed/2023/eit171/20230117/20230117_1300_eit171_1024.jpg',\n",
       " 'https://soho.nascom.nasa.gov/data/REPROCESSING/Completed/2023/eit171/20230118/20230118_0100_eit171_1024.jpg',\n",
       " 'https://soho.nascom.nasa.gov/data/REPROCESSING/Completed/2023/eit171/20230118/20230118_1300_eit171_1024.jpg',\n",
       " 'https://soho.nascom.nasa.gov/data/REPROCESSING/Completed/2023/eit171/20230119/20230119_0100_eit171_1024.jpg',\n",
       " 'https://soho.nascom.nasa.gov/data/REPROCESSING/Completed/2023/eit171/20230119/20230119_1300_eit171_1024.jpg',\n",
       " 'https://soho.nascom.nasa.gov/data/REPROCESSING/Completed/2023/eit171/20230120/20230120_0100_eit171_1024.jpg',\n",
       " 'https://soho.nascom.nasa.gov/data/REPROCESSING/Completed/2023/eit171/20230120/20230120_1300_eit171_1024.jpg',\n",
       " 'https://soho.nascom.nasa.gov/data/REPROCESSING/Completed/2023/eit171/20230121/20230121_0100_eit171_1024.jpg',\n",
       " 'https://soho.nascom.nasa.gov/data/REPROCESSING/Completed/2023/eit171/20230121/20230121_1300_eit171_1024.jpg',\n",
       " 'https://soho.nascom.nasa.gov/data/REPROCESSING/Completed/2023/eit171/20230122/20230122_0100_eit171_1024.jpg',\n",
       " 'https://soho.nascom.nasa.gov/data/REPROCESSING/Completed/2023/eit171/20230122/20230122_1300_eit171_1024.jpg',\n",
       " 'https://soho.nascom.nasa.gov/data/REPROCESSING/Completed/2023/eit171/20230123/20230123_0100_eit171_1024.jpg',\n",
       " 'https://soho.nascom.nasa.gov/data/REPROCESSING/Completed/2023/eit171/20230123/20230123_1300_eit171_1024.jpg',\n",
       " 'https://soho.nascom.nasa.gov/data/REPROCESSING/Completed/2023/eit171/20230124/20230124_0100_eit171_1024.jpg',\n",
       " 'https://soho.nascom.nasa.gov/data/REPROCESSING/Completed/2023/eit171/20230124/20230124_1300_eit171_1024.jpg',\n",
       " 'https://soho.nascom.nasa.gov/data/REPROCESSING/Completed/2023/eit171/20230125/20230125_0100_eit171_1024.jpg',\n",
       " 'https://soho.nascom.nasa.gov/data/REPROCESSING/Completed/2023/eit171/20230125/20230125_1300_eit171_1024.jpg',\n",
       " 'https://soho.nascom.nasa.gov/data/REPROCESSING/Completed/2023/eit171/20230126/20230126_0100_eit171_1024.jpg',\n",
       " 'https://soho.nascom.nasa.gov/data/REPROCESSING/Completed/2023/eit171/20230126/20230126_1300_eit171_1024.jpg',\n",
       " 'https://soho.nascom.nasa.gov/data/REPROCESSING/Completed/2023/eit171/20230127/20230127_0100_eit171_1024.jpg',\n",
       " 'https://soho.nascom.nasa.gov/data/REPROCESSING/Completed/2023/eit171/20230127/20230127_1300_eit171_1024.jpg',\n",
       " 'https://soho.nascom.nasa.gov/data/REPROCESSING/Completed/2023/eit171/20230128/20230128_0100_eit171_1024.jpg',\n",
       " 'https://soho.nascom.nasa.gov/data/REPROCESSING/Completed/2023/eit171/20230128/20230128_1300_eit171_1024.jpg',\n",
       " 'https://soho.nascom.nasa.gov/data/REPROCESSING/Completed/2023/eit171/20230129/20230129_0100_eit171_1024.jpg',\n",
       " 'https://soho.nascom.nasa.gov/data/REPROCESSING/Completed/2023/eit171/20230129/20230129_1300_eit171_1024.jpg',\n",
       " 'https://soho.nascom.nasa.gov/data/REPROCESSING/Completed/2023/eit171/20230130/20230130_0100_eit171_1024.jpg',\n",
       " 'https://soho.nascom.nasa.gov/data/REPROCESSING/Completed/2023/eit171/20230130/20230130_1300_eit171_1024.jpg',\n",
       " 'https://soho.nascom.nasa.gov/data/REPROCESSING/Completed/2023/eit171/20230131/20230131_0100_eit171_1024.jpg',\n",
       " 'https://soho.nascom.nasa.gov/data/REPROCESSING/Completed/2023/eit171/20230131/20230131_1300_eit171_1024.jpg']"
      ]
     },
     "execution_count": 41,
     "metadata": {},
     "output_type": "execute_result"
    }
   ],
   "source": [
    "eit171_urls"
   ]
  },
  {
   "cell_type": "code",
   "execution_count": null,
   "id": "dd1dea41",
   "metadata": {},
   "outputs": [],
   "source": []
  }
 ],
 "metadata": {
  "kernelspec": {
   "display_name": "Python 3 (ipykernel)",
   "language": "python",
   "name": "python3"
  },
  "language_info": {
   "codemirror_mode": {
    "name": "ipython",
    "version": 3
   },
   "file_extension": ".py",
   "mimetype": "text/x-python",
   "name": "python",
   "nbconvert_exporter": "python",
   "pygments_lexer": "ipython3",
   "version": "3.9.7"
  }
 },
 "nbformat": 4,
 "nbformat_minor": 5
}
