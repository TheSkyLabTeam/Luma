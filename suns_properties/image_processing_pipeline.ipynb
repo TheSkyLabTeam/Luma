{
 "cells": [
  {
   "attachments": {},
   "cell_type": "markdown",
   "id": "a7902e74",
   "metadata": {},
   "source": [
    "### Carga de las imagenes"
   ]
  },
  {
   "cell_type": "code",
   "execution_count": 3,
   "id": "ae12a848",
   "metadata": {},
   "outputs": [],
   "source": [
    "from image_services import get_image_urls\n",
    "from skimage import io\n",
    "import solar_image_analysis as sia\n",
    "import re \n",
    "from datetime import datetime"
   ]
  },
  {
   "attachments": {},
   "cell_type": "markdown",
   "id": "9876dff6",
   "metadata": {},
   "source": [
    "Acá esta como ejemplo como podemos generar todos los links para cualquera de las  carpertas dado un rango de fechas, el nombre de la carpeta (tipo de imagen, en que banda se tomo), indicando apropiadamente la fecha de incio y la frecuencia con la que se toman, como se muestra a continuación estan generando para tres casos\n"
   ]
  },
  {
   "cell_type": "code",
   "execution_count": 16,
   "id": "9e8a21ba",
   "metadata": {},
   "outputs": [],
   "source": [
    "hmiigr_urls = get_image_urls('01/01/2023 00:00:00', '02/01/2023', image_type = 'hmiigr' ,frequency='90T')\n",
    "eit171_urls = get_image_urls('01/01/2023 01:00:00', '02/01/2023', image_type='eit171', frequency='12H')\n",
    "eit195_urls = get_image_urls('01/01/2023 01:13:00', '02/01/2023', image_type='eit195', frequency='12H')\n",
    "eit284_urls = get_image_urls('01/01/2023 01:06:00', '02/01/2023', image_type='eit284', frequency='12H')\n",
    "eit304_urls = get_image_urls('01/01/2023 01:19:00', '02/01/2023', image_type='eit304', frequency='12H')\n",
    "\n"
   ]
  },
  {
   "cell_type": "code",
   "execution_count": 17,
   "id": "0f7d5dc9",
   "metadata": {},
   "outputs": [
    {
     "data": {
      "text/plain": [
       "['https://soho.nascom.nasa.gov/data/REPROCESSING/Completed/2023/eit304/20230101/20230101_0119_eit304_1024.jpg',\n",
       " 'https://soho.nascom.nasa.gov/data/REPROCESSING/Completed/2023/eit304/20230101/20230101_1319_eit304_1024.jpg',\n",
       " 'https://soho.nascom.nasa.gov/data/REPROCESSING/Completed/2023/eit304/20230102/20230102_0119_eit304_1024.jpg',\n",
       " 'https://soho.nascom.nasa.gov/data/REPROCESSING/Completed/2023/eit304/20230102/20230102_1319_eit304_1024.jpg',\n",
       " 'https://soho.nascom.nasa.gov/data/REPROCESSING/Completed/2023/eit304/20230103/20230103_0119_eit304_1024.jpg',\n",
       " 'https://soho.nascom.nasa.gov/data/REPROCESSING/Completed/2023/eit304/20230103/20230103_1319_eit304_1024.jpg',\n",
       " 'https://soho.nascom.nasa.gov/data/REPROCESSING/Completed/2023/eit304/20230104/20230104_0119_eit304_1024.jpg',\n",
       " 'https://soho.nascom.nasa.gov/data/REPROCESSING/Completed/2023/eit304/20230104/20230104_1319_eit304_1024.jpg',\n",
       " 'https://soho.nascom.nasa.gov/data/REPROCESSING/Completed/2023/eit304/20230105/20230105_0119_eit304_1024.jpg',\n",
       " 'https://soho.nascom.nasa.gov/data/REPROCESSING/Completed/2023/eit304/20230105/20230105_1319_eit304_1024.jpg',\n",
       " 'https://soho.nascom.nasa.gov/data/REPROCESSING/Completed/2023/eit304/20230106/20230106_0119_eit304_1024.jpg',\n",
       " 'https://soho.nascom.nasa.gov/data/REPROCESSING/Completed/2023/eit304/20230106/20230106_1319_eit304_1024.jpg',\n",
       " 'https://soho.nascom.nasa.gov/data/REPROCESSING/Completed/2023/eit304/20230107/20230107_0119_eit304_1024.jpg',\n",
       " 'https://soho.nascom.nasa.gov/data/REPROCESSING/Completed/2023/eit304/20230107/20230107_1319_eit304_1024.jpg',\n",
       " 'https://soho.nascom.nasa.gov/data/REPROCESSING/Completed/2023/eit304/20230108/20230108_0119_eit304_1024.jpg',\n",
       " 'https://soho.nascom.nasa.gov/data/REPROCESSING/Completed/2023/eit304/20230108/20230108_1319_eit304_1024.jpg',\n",
       " 'https://soho.nascom.nasa.gov/data/REPROCESSING/Completed/2023/eit304/20230109/20230109_0119_eit304_1024.jpg',\n",
       " 'https://soho.nascom.nasa.gov/data/REPROCESSING/Completed/2023/eit304/20230109/20230109_1319_eit304_1024.jpg',\n",
       " 'https://soho.nascom.nasa.gov/data/REPROCESSING/Completed/2023/eit304/20230110/20230110_0119_eit304_1024.jpg',\n",
       " 'https://soho.nascom.nasa.gov/data/REPROCESSING/Completed/2023/eit304/20230110/20230110_1319_eit304_1024.jpg',\n",
       " 'https://soho.nascom.nasa.gov/data/REPROCESSING/Completed/2023/eit304/20230111/20230111_0119_eit304_1024.jpg',\n",
       " 'https://soho.nascom.nasa.gov/data/REPROCESSING/Completed/2023/eit304/20230111/20230111_1319_eit304_1024.jpg',\n",
       " 'https://soho.nascom.nasa.gov/data/REPROCESSING/Completed/2023/eit304/20230112/20230112_0119_eit304_1024.jpg',\n",
       " 'https://soho.nascom.nasa.gov/data/REPROCESSING/Completed/2023/eit304/20230112/20230112_1319_eit304_1024.jpg',\n",
       " 'https://soho.nascom.nasa.gov/data/REPROCESSING/Completed/2023/eit304/20230113/20230113_0119_eit304_1024.jpg',\n",
       " 'https://soho.nascom.nasa.gov/data/REPROCESSING/Completed/2023/eit304/20230113/20230113_1319_eit304_1024.jpg',\n",
       " 'https://soho.nascom.nasa.gov/data/REPROCESSING/Completed/2023/eit304/20230114/20230114_0119_eit304_1024.jpg',\n",
       " 'https://soho.nascom.nasa.gov/data/REPROCESSING/Completed/2023/eit304/20230114/20230114_1319_eit304_1024.jpg',\n",
       " 'https://soho.nascom.nasa.gov/data/REPROCESSING/Completed/2023/eit304/20230115/20230115_0119_eit304_1024.jpg',\n",
       " 'https://soho.nascom.nasa.gov/data/REPROCESSING/Completed/2023/eit304/20230115/20230115_1319_eit304_1024.jpg',\n",
       " 'https://soho.nascom.nasa.gov/data/REPROCESSING/Completed/2023/eit304/20230116/20230116_0119_eit304_1024.jpg',\n",
       " 'https://soho.nascom.nasa.gov/data/REPROCESSING/Completed/2023/eit304/20230116/20230116_1319_eit304_1024.jpg',\n",
       " 'https://soho.nascom.nasa.gov/data/REPROCESSING/Completed/2023/eit304/20230117/20230117_0119_eit304_1024.jpg',\n",
       " 'https://soho.nascom.nasa.gov/data/REPROCESSING/Completed/2023/eit304/20230117/20230117_1319_eit304_1024.jpg',\n",
       " 'https://soho.nascom.nasa.gov/data/REPROCESSING/Completed/2023/eit304/20230118/20230118_0119_eit304_1024.jpg',\n",
       " 'https://soho.nascom.nasa.gov/data/REPROCESSING/Completed/2023/eit304/20230118/20230118_1319_eit304_1024.jpg',\n",
       " 'https://soho.nascom.nasa.gov/data/REPROCESSING/Completed/2023/eit304/20230119/20230119_0119_eit304_1024.jpg',\n",
       " 'https://soho.nascom.nasa.gov/data/REPROCESSING/Completed/2023/eit304/20230119/20230119_1319_eit304_1024.jpg',\n",
       " 'https://soho.nascom.nasa.gov/data/REPROCESSING/Completed/2023/eit304/20230120/20230120_0119_eit304_1024.jpg',\n",
       " 'https://soho.nascom.nasa.gov/data/REPROCESSING/Completed/2023/eit304/20230120/20230120_1319_eit304_1024.jpg',\n",
       " 'https://soho.nascom.nasa.gov/data/REPROCESSING/Completed/2023/eit304/20230121/20230121_0119_eit304_1024.jpg',\n",
       " 'https://soho.nascom.nasa.gov/data/REPROCESSING/Completed/2023/eit304/20230121/20230121_1319_eit304_1024.jpg',\n",
       " 'https://soho.nascom.nasa.gov/data/REPROCESSING/Completed/2023/eit304/20230122/20230122_0119_eit304_1024.jpg',\n",
       " 'https://soho.nascom.nasa.gov/data/REPROCESSING/Completed/2023/eit304/20230122/20230122_1319_eit304_1024.jpg',\n",
       " 'https://soho.nascom.nasa.gov/data/REPROCESSING/Completed/2023/eit304/20230123/20230123_0119_eit304_1024.jpg',\n",
       " 'https://soho.nascom.nasa.gov/data/REPROCESSING/Completed/2023/eit304/20230123/20230123_1319_eit304_1024.jpg',\n",
       " 'https://soho.nascom.nasa.gov/data/REPROCESSING/Completed/2023/eit304/20230124/20230124_0119_eit304_1024.jpg',\n",
       " 'https://soho.nascom.nasa.gov/data/REPROCESSING/Completed/2023/eit304/20230124/20230124_1319_eit304_1024.jpg',\n",
       " 'https://soho.nascom.nasa.gov/data/REPROCESSING/Completed/2023/eit304/20230125/20230125_0119_eit304_1024.jpg',\n",
       " 'https://soho.nascom.nasa.gov/data/REPROCESSING/Completed/2023/eit304/20230125/20230125_1319_eit304_1024.jpg',\n",
       " 'https://soho.nascom.nasa.gov/data/REPROCESSING/Completed/2023/eit304/20230126/20230126_0119_eit304_1024.jpg',\n",
       " 'https://soho.nascom.nasa.gov/data/REPROCESSING/Completed/2023/eit304/20230126/20230126_1319_eit304_1024.jpg',\n",
       " 'https://soho.nascom.nasa.gov/data/REPROCESSING/Completed/2023/eit304/20230127/20230127_0119_eit304_1024.jpg',\n",
       " 'https://soho.nascom.nasa.gov/data/REPROCESSING/Completed/2023/eit304/20230127/20230127_1319_eit304_1024.jpg',\n",
       " 'https://soho.nascom.nasa.gov/data/REPROCESSING/Completed/2023/eit304/20230128/20230128_0119_eit304_1024.jpg',\n",
       " 'https://soho.nascom.nasa.gov/data/REPROCESSING/Completed/2023/eit304/20230128/20230128_1319_eit304_1024.jpg',\n",
       " 'https://soho.nascom.nasa.gov/data/REPROCESSING/Completed/2023/eit304/20230129/20230129_0119_eit304_1024.jpg',\n",
       " 'https://soho.nascom.nasa.gov/data/REPROCESSING/Completed/2023/eit304/20230129/20230129_1319_eit304_1024.jpg',\n",
       " 'https://soho.nascom.nasa.gov/data/REPROCESSING/Completed/2023/eit304/20230130/20230130_0119_eit304_1024.jpg',\n",
       " 'https://soho.nascom.nasa.gov/data/REPROCESSING/Completed/2023/eit304/20230130/20230130_1319_eit304_1024.jpg',\n",
       " 'https://soho.nascom.nasa.gov/data/REPROCESSING/Completed/2023/eit304/20230131/20230131_0119_eit304_1024.jpg',\n",
       " 'https://soho.nascom.nasa.gov/data/REPROCESSING/Completed/2023/eit304/20230131/20230131_1319_eit304_1024.jpg']"
      ]
     },
     "execution_count": 17,
     "metadata": {},
     "output_type": "execute_result"
    }
   ],
   "source": [
    "eit304_urls"
   ]
  },
  {
   "attachments": {},
   "cell_type": "markdown",
   "id": "2e4e498c",
   "metadata": {},
   "source": [
    "Acá se estan probando el calculo de los parametros que se van implementando para 10 imagenes"
   ]
  },
  {
   "cell_type": "code",
   "execution_count": 8,
   "id": "37766ead",
   "metadata": {},
   "outputs": [],
   "source": [
    "import pandas as pd\n",
    "from urllib.error import HTTPError\n",
    "\n",
    "def compute_metrics(start_date, end_date, image_type,  frequency) -> pd.DataFrame:\n",
    "    \n",
    "    \"\"\"\n",
    "    Computes various image metrics for a set of images within a given date range and specified type and frequency.\n",
    "\n",
    "    Parameters\n",
    "    ----------\n",
    "    start_date : str\n",
    "        Start date for retrieving the images, formatted as 'YYYY-MM-DD'.\n",
    "    \n",
    "    end_date : str\n",
    "        End date for retrieving the images, formatted as 'YYYY-MM-DD'.\n",
    "    \n",
    "    image_type : str\n",
    "        Type/category of the image to retrieve. \n",
    "    \n",
    "    frequency : str\n",
    "        Frequency for retrieving images, e.g., 'daily', 'hourly'.\n",
    "\n",
    "    Returns\n",
    "    -------\n",
    "    pd.DataFrame\n",
    "        DataFrame containing computed metrics for each image, with one row per image \n",
    "        and columns for each feature. The index of the DataFrame corresponds to the datetime \n",
    "        extracted from the image URL.\n",
    "        \n",
    "    Notes\n",
    "    -----\n",
    "    The function fetches image URLs based on the provided date range, type, and frequency. \n",
    "    For each URL, it reads the image and computes a set of metrics, such as entropy, mean \n",
    "    intensity, and fractal dimension. If the image at a particular URL is inaccessible, it \n",
    "    skips that URL. The extracted date and time from the image URL is used as the index \n",
    "    for the resulting DataFrame.\n",
    "    \"\"\"\n",
    "\n",
    "    image_urls = get_image_urls(start_date, end_date, image_type, frequency)\n",
    "    # Create an empty DataFrame to store the results\n",
    "    df = pd.DataFrame(columns=['entropy', 'mean_intensity', 'std_deviation', 'fractal_dimension', 'skewness', 'kurtosis', 'uniformity', 'relative_smoothness', \n",
    "                                'taruma_contrast', 'taruma_directionality'])\n",
    "\n",
    "    for url in image_urls:\n",
    "        try:\n",
    "            # Try to read the image\n",
    "            image = io.imread(url)\n",
    "        except HTTPError:\n",
    "            #print(f\"Unable to access image at {url}\")\n",
    "            continue\n",
    "\n",
    "        # Compute the features\n",
    "        entropy = sia.compute_entropy(image)\n",
    "        mean_intensity = sia.compute_mean_intensity(image)\n",
    "        std_deviation = sia.compute_standard_deviation(image)\n",
    "        fractal_dimension = sia.compute_fractal_dimension(image)\n",
    "        skewness = sia.compute_skewness(image)\n",
    "        kurtosis = sia.compute_kurtosis(image)\n",
    "        uniformity = sia.compute_uniformity(image)\n",
    "        relative_smoothness = sia.compute_relative_smoothness(image)\n",
    "        taruma_contrast = sia.compute_taruma_contrast(image)\n",
    "        taruma_directionality = sia.compute_taruma_directionality(image)\n",
    "        # Extract the date from the URL\n",
    "        date_string = re.findall(r\"\\d{8}_\\d{4}\", url)[0]\n",
    "        date = datetime.strptime(date_string, '%Y%m%d_%H%M')\n",
    "\n",
    "        # Append the results to the DataFrame\n",
    "        df.loc[date] = [entropy, mean_intensity, std_deviation, fractal_dimension, skewness, kurtosis, uniformity, relative_smoothness,taruma_contrast, taruma_directionality ]\n",
    "\n",
    "    return df\n",
    "\n",
    "data = compute_metrics('01/01/2023 00:00:00', '01/01/2023 05:00:00','hmiigr','90T')\n",
    "\n",
    "data\n"
   ]
  },
  {
   "cell_type": "code",
   "execution_count": null,
   "id": "65cb5cbe",
   "metadata": {},
   "outputs": [],
   "source": []
  }
 ],
 "metadata": {
  "kernelspec": {
   "display_name": "Python 3 (ipykernel)",
   "language": "python",
   "name": "python3"
  },
  "language_info": {
   "codemirror_mode": {
    "name": "ipython",
    "version": 3
   },
   "file_extension": ".py",
   "mimetype": "text/x-python",
   "name": "python",
   "nbconvert_exporter": "python",
   "pygments_lexer": "ipython3",
   "version": "3.9.7"
  }
 },
 "nbformat": 4,
 "nbformat_minor": 5
}
